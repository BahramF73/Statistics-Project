{
 "cells": [
  {
   "cell_type": "code",
   "id": "initial_id",
   "metadata": {
    "collapsed": true,
    "ExecuteTime": {
     "end_time": "2025-05-13T07:55:17.034126Z",
     "start_time": "2025-05-13T07:55:16.544597Z"
    }
   },
   "source": [
    "import math\n",
    "\n",
    "import numpy as np\n",
    "import pandas as pd\n",
    "\n",
    "# Uncomment the following lines to create a new CSV file with random data\n",
    "# data = pd.DataFrame(np.random.default_rng().choice(range(1, 101), size=(200, 2)), columns=['x', 'y'])\n",
    "# data.to_csv(\"data.csv\", index=False)\n",
    "\n",
    "\n",
    "data = pd.read_csv(\"data.csv\")\n",
    "\n",
    "x: pd.Series = data.copy()[\"x\"]\n",
    "y: pd.Series = data.copy()[\"y\"]\n",
    "x_sorted = x.sort_values()\n",
    "y_sorted = y.sort_values()\n",
    "data.head(200)"
   ],
   "outputs": [
    {
     "data": {
      "text/plain": [
       "       x   y\n",
       "0     83   4\n",
       "1     90  37\n",
       "2    100  69\n",
       "3     68  69\n",
       "4     76   9\n",
       "..   ...  ..\n",
       "195   37  61\n",
       "196   50  55\n",
       "197   35  72\n",
       "198   59  28\n",
       "199   51  94\n",
       "\n",
       "[200 rows x 2 columns]"
      ],
      "text/html": [
       "<div>\n",
       "<style scoped>\n",
       "    .dataframe tbody tr th:only-of-type {\n",
       "        vertical-align: middle;\n",
       "    }\n",
       "\n",
       "    .dataframe tbody tr th {\n",
       "        vertical-align: top;\n",
       "    }\n",
       "\n",
       "    .dataframe thead th {\n",
       "        text-align: right;\n",
       "    }\n",
       "</style>\n",
       "<table border=\"1\" class=\"dataframe\">\n",
       "  <thead>\n",
       "    <tr style=\"text-align: right;\">\n",
       "      <th></th>\n",
       "      <th>x</th>\n",
       "      <th>y</th>\n",
       "    </tr>\n",
       "  </thead>\n",
       "  <tbody>\n",
       "    <tr>\n",
       "      <th>0</th>\n",
       "      <td>83</td>\n",
       "      <td>4</td>\n",
       "    </tr>\n",
       "    <tr>\n",
       "      <th>1</th>\n",
       "      <td>90</td>\n",
       "      <td>37</td>\n",
       "    </tr>\n",
       "    <tr>\n",
       "      <th>2</th>\n",
       "      <td>100</td>\n",
       "      <td>69</td>\n",
       "    </tr>\n",
       "    <tr>\n",
       "      <th>3</th>\n",
       "      <td>68</td>\n",
       "      <td>69</td>\n",
       "    </tr>\n",
       "    <tr>\n",
       "      <th>4</th>\n",
       "      <td>76</td>\n",
       "      <td>9</td>\n",
       "    </tr>\n",
       "    <tr>\n",
       "      <th>...</th>\n",
       "      <td>...</td>\n",
       "      <td>...</td>\n",
       "    </tr>\n",
       "    <tr>\n",
       "      <th>195</th>\n",
       "      <td>37</td>\n",
       "      <td>61</td>\n",
       "    </tr>\n",
       "    <tr>\n",
       "      <th>196</th>\n",
       "      <td>50</td>\n",
       "      <td>55</td>\n",
       "    </tr>\n",
       "    <tr>\n",
       "      <th>197</th>\n",
       "      <td>35</td>\n",
       "      <td>72</td>\n",
       "    </tr>\n",
       "    <tr>\n",
       "      <th>198</th>\n",
       "      <td>59</td>\n",
       "      <td>28</td>\n",
       "    </tr>\n",
       "    <tr>\n",
       "      <th>199</th>\n",
       "      <td>51</td>\n",
       "      <td>94</td>\n",
       "    </tr>\n",
       "  </tbody>\n",
       "</table>\n",
       "<p>200 rows × 2 columns</p>\n",
       "</div>"
      ]
     },
     "execution_count": 1,
     "metadata": {},
     "output_type": "execute_result"
    }
   ],
   "execution_count": 1
  },
  {
   "metadata": {},
   "cell_type": "markdown",
   "source": [
    "# Average:\n",
    "_________\n",
    "### Manually"
   ],
   "id": "41ab69d9b0361c31"
  },
  {
   "metadata": {
    "ExecuteTime": {
     "end_time": "2025-05-13T07:55:17.370547Z",
     "start_time": "2025-05-13T07:55:17.367442Z"
    }
   },
   "cell_type": "code",
   "source": [
    "def mean(series: pd.Series) -> float:\n",
    "    series_sum = series.sum()\n",
    "    series_count = series.size\n",
    "    series_mean = series_sum / series_count\n",
    "    return series_mean\n",
    "\n",
    "\n",
    "# x and y average manually\n",
    "print(f\"x average: {mean(x):.2f}\\ny average: {mean(y):.2f}\")\n"
   ],
   "id": "59bc2b23098b54a1",
   "outputs": [
    {
     "name": "stdout",
     "output_type": "stream",
     "text": [
      "x average: 49.43\n",
      "y average: 50.15\n"
     ]
    }
   ],
   "execution_count": 2
  },
  {
   "metadata": {},
   "cell_type": "markdown",
   "source": [
    "_________________\n",
    "### Automatically"
   ],
   "id": "531b7d746f66e8cb"
  },
  {
   "metadata": {
    "ExecuteTime": {
     "end_time": "2025-05-13T07:55:17.468215Z",
     "start_time": "2025-05-13T07:55:17.465285Z"
    }
   },
   "cell_type": "code",
   "source": [
    "x_mean = x.mean()\n",
    "y_mean = y.mean()\n",
    "\n",
    "# x and y average automatically\n",
    "print(f\"x average: {x_mean:.2f}\\ny average: {y_mean:.2f}\")"
   ],
   "id": "766edf3485303a02",
   "outputs": [
    {
     "name": "stdout",
     "output_type": "stream",
     "text": [
      "x average: 49.43\n",
      "y average: 50.15\n"
     ]
    }
   ],
   "execution_count": 3
  },
  {
   "metadata": {},
   "cell_type": "markdown",
   "source": [
    "# Mode:\n",
    "_______\n",
    "### Manually"
   ],
   "id": "37d524a6ba39961d"
  },
  {
   "metadata": {
    "ExecuteTime": {
     "end_time": "2025-05-13T07:55:17.735798Z",
     "start_time": "2025-05-13T07:55:17.730484Z"
    }
   },
   "cell_type": "code",
   "source": [
    "def mode(series: pd.Series) -> list:\n",
    "    value_counts = series.value_counts(ascending=False)\n",
    "    modes = value_counts[value_counts == value_counts.max()].index.sort_values()\n",
    "    return list(modes)\n",
    "\n",
    "\n",
    "# x and y mode manually\n",
    "print(f\"x modes: {mode(x)}\")\n",
    "print(f\"y modes: {mode(y)}\")"
   ],
   "id": "8d264779308fe64d",
   "outputs": [
    {
     "name": "stdout",
     "output_type": "stream",
     "text": [
      "x modes: [30]\n",
      "y modes: [71]\n"
     ]
    }
   ],
   "execution_count": 4
  },
  {
   "metadata": {},
   "cell_type": "markdown",
   "source": [
    "_________________\n",
    "### Automatically"
   ],
   "id": "ebf2d95be560d0e0"
  },
  {
   "metadata": {
    "ExecuteTime": {
     "end_time": "2025-05-13T07:55:17.976563Z",
     "start_time": "2025-05-13T07:55:17.973216Z"
    }
   },
   "cell_type": "code",
   "source": [
    "x_modes = x.mode().values\n",
    "y_modes = y.mode().values\n",
    "\n",
    "# x and y mode automatically\n",
    "print(f\"x modes: {x_modes}\\ny modes: {y_modes}\")"
   ],
   "id": "368ff7273d5e0965",
   "outputs": [
    {
     "name": "stdout",
     "output_type": "stream",
     "text": [
      "x modes: [30]\n",
      "y modes: [71]\n"
     ]
    }
   ],
   "execution_count": 5
  },
  {
   "metadata": {},
   "cell_type": "markdown",
   "source": [
    "# Median:\n",
    "________\n",
    "### Manually"
   ],
   "id": "c2851b768a5d0b4c"
  },
  {
   "metadata": {
    "ExecuteTime": {
     "end_time": "2025-05-13T07:55:18.079363Z",
     "start_time": "2025-05-13T07:55:18.073714Z"
    }
   },
   "cell_type": "code",
   "source": [
    "def median(series: pd.Series) -> float:\n",
    "    sorted_series = series.sort_values().reset_index(drop=True)\n",
    "    series_len = sorted_series.size\n",
    "\n",
    "    if series_len % 2 == 0:\n",
    "        mid1 = series_len // 2 - 1\n",
    "        mid2 = series_len // 2\n",
    "        return (sorted_series.iloc[mid1] + sorted_series.iloc[mid2]) / 2\n",
    "    else:\n",
    "        mid = series_len // 2\n",
    "        return sorted_series.iloc[mid]\n",
    "\n",
    "\n",
    "x_median = median(x_sorted)\n",
    "y_median = median(y_sorted)\n",
    "print(f\"x median: {x_median}\\ny median: {y_median}\")"
   ],
   "id": "8d17df027cd7a01d",
   "outputs": [
    {
     "name": "stdout",
     "output_type": "stream",
     "text": [
      "x median: 49.5\n",
      "y median: 48.5\n"
     ]
    }
   ],
   "execution_count": 6
  },
  {
   "metadata": {},
   "cell_type": "markdown",
   "source": [
    "_________________\n",
    "### Automatically"
   ],
   "id": "9b8c1ff19f2b99cf"
  },
  {
   "metadata": {
    "ExecuteTime": {
     "end_time": "2025-05-13T07:55:18.199446Z",
     "start_time": "2025-05-13T07:55:18.196384Z"
    }
   },
   "cell_type": "code",
   "source": [
    "x_median = x.median()\n",
    "y_median = y.median()\n",
    "print(f\"x median: {x_median}\\ny median: {y_median}\")"
   ],
   "id": "ec277df32bcf06a0",
   "outputs": [
    {
     "name": "stdout",
     "output_type": "stream",
     "text": [
      "x median: 49.5\n",
      "y median: 48.5\n"
     ]
    }
   ],
   "execution_count": 7
  },
  {
   "metadata": {},
   "cell_type": "markdown",
   "source": [
    "# Variance and Standard Deviation:\n",
    "________\n",
    "### Manually"
   ],
   "id": "3157af4b16dc3be2"
  },
  {
   "metadata": {
    "ExecuteTime": {
     "end_time": "2025-05-13T07:55:18.287853Z",
     "start_time": "2025-05-13T07:55:18.281817Z"
    }
   },
   "cell_type": "code",
   "source": [
    "def data_minus_average(series: pd.Series) -> pd.Series:\n",
    "    avg = series.mean()\n",
    "    x_minus_avg = series - avg\n",
    "    return x_minus_avg\n",
    "\n",
    "\n",
    "def variance(series: pd.Series) -> float:\n",
    "    series_power_2 = data_minus_average(series).pow(2)\n",
    "    return series_power_2.sum() / series.size\n",
    "\n",
    "\n",
    "def standard_deviation(series: pd.Series) -> float:\n",
    "    std_dev = variance(series)\n",
    "    return math.sqrt(std_dev)\n",
    "\n",
    "\n",
    "print(f\"x variance: {variance(x):.2f}\\ny variance: {variance(y):.2f}\\n\")\n",
    "print(f\"x standard deviation: {standard_deviation(x):.2f}\\ny standard deviation: {standard_deviation(y):.2f}\\n\")"
   ],
   "id": "ac4733b4a9869566",
   "outputs": [
    {
     "name": "stdout",
     "output_type": "stream",
     "text": [
      "x variance: 798.93\n",
      "y variance: 877.35\n",
      "\n",
      "x standard deviation: 28.27\n",
      "y standard deviation: 29.62\n",
      "\n"
     ]
    }
   ],
   "execution_count": 8
  },
  {
   "metadata": {},
   "cell_type": "markdown",
   "source": [
    "_________________\n",
    "### Automatically"
   ],
   "id": "2f4030237f913dcc"
  },
  {
   "metadata": {
    "ExecuteTime": {
     "end_time": "2025-05-13T07:55:18.380819Z",
     "start_time": "2025-05-13T07:55:18.376456Z"
    }
   },
   "cell_type": "code",
   "source": [
    "print(f\"x variance: {x.var(ddof=0):.2f}\\ny variance: {y.var(ddof=0):.2f}\\n\")\n",
    "print(f\"x standard deviation: {x.std(ddof=0):.2f}\\ny standard deviation: {y.std(ddof=0):.2f}\\n\")"
   ],
   "id": "12a14caea45b47f6",
   "outputs": [
    {
     "name": "stdout",
     "output_type": "stream",
     "text": [
      "x variance: 798.93\n",
      "y variance: 877.35\n",
      "\n",
      "x standard deviation: 28.27\n",
      "y standard deviation: 29.62\n",
      "\n"
     ]
    }
   ],
   "execution_count": 9
  },
  {
   "metadata": {},
   "cell_type": "markdown",
   "source": [
    "# Coefficient of variation\n",
    "________\n",
    "### Manually"
   ],
   "id": "9e094f66099fb8f0"
  },
  {
   "metadata": {
    "ExecuteTime": {
     "end_time": "2025-05-13T07:55:18.477570Z",
     "start_time": "2025-05-13T07:55:18.472650Z"
    }
   },
   "cell_type": "code",
   "source": [
    "def coefficient_of_variation(series: pd.Series) -> float:\n",
    "    std_dev = standard_deviation(series)\n",
    "    cv = std_dev / series.mean()\n",
    "    return cv\n",
    "\n",
    "\n",
    "print(\n",
    "    f\"x coefficient of variation: {coefficient_of_variation(x):.2f}\\ny coefficient of variation: {coefficient_of_variation(y):.2f}\\n\")"
   ],
   "id": "b4d494b573e06a3b",
   "outputs": [
    {
     "name": "stdout",
     "output_type": "stream",
     "text": [
      "x coefficient of variation: 0.57\n",
      "y coefficient of variation: 0.59\n",
      "\n"
     ]
    }
   ],
   "execution_count": 10
  },
  {
   "metadata": {},
   "cell_type": "markdown",
   "source": [
    "_________________\n",
    "### Automatically"
   ],
   "id": "8c6ff7efb1594f4a"
  },
  {
   "metadata": {
    "ExecuteTime": {
     "end_time": "2025-05-13T07:55:18.553268Z",
     "start_time": "2025-05-13T07:55:18.549648Z"
    }
   },
   "cell_type": "code",
   "source": [
    "print(\n",
    "    f\"x coefficient of variation: {(x.std(ddof=0) / x.mean()):.2f}\\ny coefficient of variation: {(y.std(ddof=0) / y.mean()):.2f}\\n\")"
   ],
   "id": "53e0f28ff9a150e",
   "outputs": [
    {
     "name": "stdout",
     "output_type": "stream",
     "text": [
      "x coefficient of variation: 0.57\n",
      "y coefficient of variation: 0.59\n",
      "\n"
     ]
    }
   ],
   "execution_count": 11
  },
  {
   "metadata": {},
   "cell_type": "markdown",
   "source": [
    "# Standard error of the mean\n",
    "________\n",
    "### Manually"
   ],
   "id": "d496e6b696bda05c"
  },
  {
   "metadata": {
    "ExecuteTime": {
     "end_time": "2025-05-13T07:55:18.652041Z",
     "start_time": "2025-05-13T07:55:18.648852Z"
    }
   },
   "cell_type": "code",
   "source": [
    "def sem(series: pd.Series) -> float:\n",
    "    s = series.std(ddof=0) / math.sqrt(series.size)\n",
    "    return s\n",
    "\n",
    "\n",
    "print(f\"x SEM: {sem(x):.2f}\\ny SEM: {sem(y):.2f}\\n\")"
   ],
   "id": "323c0e11533be5a0",
   "outputs": [
    {
     "name": "stdout",
     "output_type": "stream",
     "text": [
      "x SEM: 2.00\n",
      "y SEM: 2.09\n",
      "\n"
     ]
    }
   ],
   "execution_count": 12
  },
  {
   "metadata": {},
   "cell_type": "markdown",
   "source": [
    "_________________\n",
    "### Automatically"
   ],
   "id": "9ddf6f6e5c2faed"
  },
  {
   "metadata": {
    "ExecuteTime": {
     "end_time": "2025-05-13T07:55:18.726626Z",
     "start_time": "2025-05-13T07:55:18.723696Z"
    }
   },
   "cell_type": "code",
   "source": "print(f\"x SEM: {x.sem(ddof=0):.2f}\\ny SEM: {y.sem(ddof=0):.2f}\\n\")",
   "id": "c33e175ef0e75385",
   "outputs": [
    {
     "name": "stdout",
     "output_type": "stream",
     "text": [
      "x SEM: 2.00\n",
      "y SEM: 2.09\n",
      "\n"
     ]
    }
   ],
   "execution_count": 13
  },
  {
   "metadata": {},
   "cell_type": "markdown",
   "source": "# Confidence interval",
   "id": "4fc4b784cbae1199"
  },
  {
   "metadata": {
    "ExecuteTime": {
     "end_time": "2025-05-13T07:55:18.805030Z",
     "start_time": "2025-05-13T07:55:18.797939Z"
    }
   },
   "cell_type": "code",
   "source": [
    "def ci_level(series: pd.Series, level=95) -> float:\n",
    "    s = series.sem(ddof=0)\n",
    "    if level == 99:\n",
    "        return s * 2.58\n",
    "    elif level == 95:\n",
    "        return s * 1.96\n",
    "    else:\n",
    "        # 90%\n",
    "        return s * 1.64\n",
    "\n",
    "\n",
    "def ci_level_range(series: pd.Series,level=95) -> list:\n",
    "    ci_lev = ci_level(series, level)\n",
    "    return [float(x.mean() - ci_lev), float(x.mean() + ci_lev)]\n",
    "\n",
    "low_x,high_x=ci_level_range(x,95)\n",
    "low_y,high_y=ci_level_range(y,95)\n",
    "print(f\"x confidence interval 95%: {ci_level(x,95):.2f}\\t\\t\\trange: [ {low_x:.2f} , {high_x:.2f} ]\\ny confidence interval 95%: {ci_level(y,95):.2f}\\t\\t\\trange: [ {low_y:.2f} , {high_y:.2f} ]\\n\")\n",
    "\n",
    "low_x,high_x=ci_level_range(x,99)\n",
    "low_y,high_y=ci_level_range(y,99)\n",
    "print(f\"x confidence interval 99%: {ci_level(x,99):.2f}\\t\\t\\trange: [ {low_x:.2f} , {high_x:.2f} ]\\ny confidence interval 99%: {ci_level(y,99):.2f}\\t\\t\\trange: [ {low_y:.2f} , {high_y:.2f} ]\\n\")"
   ],
   "id": "ca8af41227aa0981",
   "outputs": [
    {
     "name": "stdout",
     "output_type": "stream",
     "text": [
      "x confidence interval 95%: 3.92\t\t\trange: [ 45.51 , 53.35 ]\n",
      "y confidence interval 95%: 4.11\t\t\trange: [ 45.32 , 53.54 ]\n",
      "\n",
      "x confidence interval 99%: 5.16\t\t\trange: [ 44.27 , 54.59 ]\n",
      "y confidence interval 99%: 5.40\t\t\trange: [ 44.03 , 54.83 ]\n",
      "\n"
     ]
    }
   ],
   "execution_count": 14
  },
  {
   "metadata": {},
   "cell_type": "markdown",
   "source": [
    "# Pearson correlation\n",
    "________\n",
    "### Manually"
   ],
   "id": "c8d86d95aa393586"
  },
  {
   "metadata": {
    "ExecuteTime": {
     "end_time": "2025-05-13T07:55:18.893089Z",
     "start_time": "2025-05-13T07:55:18.888917Z"
    }
   },
   "cell_type": "code",
   "source": [
    "def pearson_corr(x_series:pd.Series,y_series:pd.Series)->float:\n",
    "\n",
    "    x_minus_avg=data_minus_average(x)\n",
    "    y_minus_avg=data_minus_average(y)\n",
    "\n",
    "    x_minus_avg_pow_2=x_minus_avg.pow(2)\n",
    "    y_minus_avg_pow_2=y_minus_avg.pow(2)\n",
    "\n",
    "    x_minus_avg_pow_2_sum=x_minus_avg_pow_2.sum()\n",
    "    y_minus_avg_pow_2_sum=y_minus_avg_pow_2.sum()\n",
    "\n",
    "    minus_avg_multi=x_minus_avg*y_minus_avg\n",
    "    minus_avg_multi_sum=minus_avg_multi.sum()\n",
    "    return minus_avg_multi_sum/math.sqrt(x_minus_avg_pow_2_sum*y_minus_avg_pow_2_sum)\n",
    "\n",
    "\n",
    "print(f\"Pearson correlation: {pearson_corr(x,y):.2f}\")"
   ],
   "id": "2f946ad525c392ca",
   "outputs": [
    {
     "name": "stdout",
     "output_type": "stream",
     "text": [
      "Pearson correlation: 0.01\n"
     ]
    }
   ],
   "execution_count": 15
  },
  {
   "metadata": {},
   "cell_type": "markdown",
   "source": [
    "________\n",
    "### Automatically"
   ],
   "id": "e168c9b5fc0d34db"
  },
  {
   "metadata": {
    "ExecuteTime": {
     "end_time": "2025-05-13T07:55:18.956993Z",
     "start_time": "2025-05-13T07:55:18.953731Z"
    }
   },
   "cell_type": "code",
   "source": "print(f\"Pearson correlation: {data.corr(method=\"pearson\").iloc[0,1]:.2f}\")",
   "id": "521d1cfc32dc758a",
   "outputs": [
    {
     "name": "stdout",
     "output_type": "stream",
     "text": [
      "Pearson correlation: 0.01\n"
     ]
    }
   ],
   "execution_count": 16
  },
  {
   "metadata": {},
   "cell_type": "markdown",
   "source": [
    "# Spearman correlation\n",
    "________\n",
    "### Manually"
   ],
   "id": "7a21239d7908f883"
  },
  {
   "metadata": {
    "ExecuteTime": {
     "end_time": "2025-05-13T07:55:19.038627Z",
     "start_time": "2025-05-13T07:55:19.033991Z"
    }
   },
   "cell_type": "code",
   "source": [
    "def spearman_corr(x_series:pd.Series,y_series:pd.Series)->float:\n",
    "    #=1-(6*W2)/(COUNT(S2:S201)*(POWER(COUNT(S2:S201),2) -1))\n",
    "    x_rank_avg=x_series.rank(method=\"average\")\n",
    "    y_rank_avg=y_series.rank(method=\"average\")\n",
    "    rank_avg_difference=x_rank_avg-y_rank_avg\n",
    "    rank_avg_difference_pow_2=rank_avg_difference.pow(2)\n",
    "    numerator=(6*rank_avg_difference_pow_2.sum())\n",
    "    denominator=(x_series.size*(pow(x_series.size,2)-1))\n",
    "    return 1-numerator/denominator\n",
    "\n",
    "print(f\"Spearman correlation: {spearman_corr(x,y):.2f}\")"
   ],
   "id": "99d66597ac758892",
   "outputs": [
    {
     "name": "stdout",
     "output_type": "stream",
     "text": [
      "Spearman correlation: 0.01\n"
     ]
    }
   ],
   "execution_count": 17
  },
  {
   "metadata": {},
   "cell_type": "markdown",
   "source": [
    "________\n",
    "### Automatically"
   ],
   "id": "6525280f283f23e2"
  },
  {
   "metadata": {
    "ExecuteTime": {
     "end_time": "2025-05-13T07:55:19.132046Z",
     "start_time": "2025-05-13T07:55:19.128690Z"
    }
   },
   "cell_type": "code",
   "source": "print(f\"Pearson correlation: {data.corr(method=\"spearman\").iloc[0,1]:.2f}\")",
   "id": "b68fdcdb40ef6e00",
   "outputs": [
    {
     "name": "stdout",
     "output_type": "stream",
     "text": [
      "Pearson correlation: 0.01\n"
     ]
    }
   ],
   "execution_count": 18
  },
  {
   "metadata": {},
   "cell_type": "markdown",
   "source": "# Regression",
   "id": "e26fab95e3b8f808"
  },
  {
   "metadata": {
    "ExecuteTime": {
     "end_time": "2025-05-13T07:55:19.208302Z",
     "start_time": "2025-05-13T07:55:19.200392Z"
    }
   },
   "cell_type": "code",
   "source": [
    "def regression(x_series:pd.Series,y_series:pd.Series)->tuple[float,float]:\n",
    "    count=x_series.size\n",
    "    xy_sum=(x_series*y_series).sum()\n",
    "    x_sum=x_series.sum()\n",
    "    y_sum=y_series.sum()\n",
    "    x2_sum=(x_series.pow(2)).sum()\n",
    "    b_numerator=count*xy_sum-x_sum*y_sum\n",
    "    b_denominator=count*x2_sum-math.pow(x_sum,2)\n",
    "    b=b_numerator/b_denominator\n",
    "    a_numerator=y_sum-b*x_sum\n",
    "    a_denominator=count\n",
    "    a=a_numerator/a_denominator\n",
    "    return a,b\n",
    "\n",
    "print(f\"Regression: y={regression(x,y)[0]:.2f}+{regression(x,y)[1]:.2f}x\")\n",
    "regression_series=regression(x,y)[0]+x*regression(x,y)[1]\n",
    "regression_series.__round__(2).head(200)"
   ],
   "id": "f5bcd04443fe2fa0",
   "outputs": [
    {
     "name": "stdout",
     "output_type": "stream",
     "text": [
      "Regression: y=49.58+0.01x\n"
     ]
    },
    {
     "data": {
      "text/plain": [
       "0      50.53\n",
       "1      50.61\n",
       "2      50.72\n",
       "3      50.36\n",
       "4      50.45\n",
       "       ...  \n",
       "195    50.00\n",
       "196    50.15\n",
       "197    49.98\n",
       "198    50.25\n",
       "199    50.16\n",
       "Name: x, Length: 200, dtype: float64"
      ]
     },
     "execution_count": 19,
     "metadata": {},
     "output_type": "execute_result"
    }
   ],
   "execution_count": 19
  }
 ],
 "metadata": {
  "kernelspec": {
   "display_name": "Python 3",
   "language": "python",
   "name": "python3"
  },
  "language_info": {
   "codemirror_mode": {
    "name": "ipython",
    "version": 2
   },
   "file_extension": ".py",
   "mimetype": "text/x-python",
   "name": "python",
   "nbconvert_exporter": "python",
   "pygments_lexer": "ipython2",
   "version": "2.7.6"
  }
 },
 "nbformat": 4,
 "nbformat_minor": 5
}
